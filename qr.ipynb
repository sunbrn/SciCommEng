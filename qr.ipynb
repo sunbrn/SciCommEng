{
  "nbformat": 4,
  "nbformat_minor": 0,
  "metadata": {
    "colab": {
      "provenance": [],
      "include_colab_link": true
    },
    "kernelspec": {
      "name": "python3",
      "display_name": "Python 3"
    },
    "language_info": {
      "name": "python"
    }
  },
  "cells": [
    {
      "cell_type": "markdown",
      "metadata": {
        "id": "view-in-github",
        "colab_type": "text"
      },
      "source": [
        "<a href=\"https://colab.research.google.com/github/sunbrn/SciCommEng/blob/master/qr.ipynb\" target=\"_parent\"><img src=\"https://colab.research.google.com/assets/colab-badge.svg\" alt=\"Open In Colab\"/></a>"
      ]
    },
    {
      "cell_type": "markdown",
      "source": [
        "# Esegui prima cella e alla conclusione **riavvia il runtime!**"
      ],
      "metadata": {
        "id": "ebvffDsZ4HWL"
      }
    },
    {
      "cell_type": "code",
      "source": [
        "%%time\n",
        "\n",
        "# Questo notebook è stato arrangiato da carlo.bono@polimi.it googlando furiosamente\n",
        "# (fammi un fischio se si può migliorare qualcosa)\n",
        "\n",
        "!sudo apt-get update\n",
        "!apt install libzbar0\n",
        "!apt install poppler-utils\n",
        "# !pip install kraken\n",
        "!pip install pymupdf reportlab pylabels qrcode pyzbar pdf2image"
      ],
      "metadata": {
        "id": "rhHn5Ed7wsDJ",
        "colab": {
          "base_uri": "https://localhost:8080/"
        },
        "outputId": "e21bf517-3296-45b4-ee51-cb8fcb5b892e"
      },
      "execution_count": null,
      "outputs": [
        {
          "output_type": "stream",
          "name": "stdout",
          "text": [
            "Hit:1 http://archive.ubuntu.com/ubuntu jammy InRelease\n",
            "Get:2 https://cloud.r-project.org/bin/linux/ubuntu jammy-cran40/ InRelease [3,626 B]\n",
            "Get:3 http://archive.ubuntu.com/ubuntu jammy-updates InRelease [119 kB]\n",
            "Hit:4 https://developer.download.nvidia.com/compute/cuda/repos/ubuntu2204/x86_64  InRelease\n",
            "Get:5 http://security.ubuntu.com/ubuntu jammy-security InRelease [110 kB]\n",
            "Hit:6 http://archive.ubuntu.com/ubuntu jammy-backports InRelease\n",
            "Hit:7 https://ppa.launchpadcontent.net/c2d4u.team/c2d4u4.0+/ubuntu jammy InRelease\n",
            "Hit:8 https://ppa.launchpadcontent.net/deadsnakes/ppa/ubuntu jammy InRelease\n",
            "Hit:9 https://ppa.launchpadcontent.net/graphics-drivers/ppa/ubuntu jammy InRelease\n",
            "Get:10 http://archive.ubuntu.com/ubuntu jammy-updates/restricted amd64 Packages [1,614 kB]\n",
            "Hit:11 https://ppa.launchpadcontent.net/ubuntugis/ppa/ubuntu jammy InRelease\n",
            "Get:12 http://security.ubuntu.com/ubuntu jammy-security/universe amd64 Packages [1,047 kB]\n",
            "Get:13 http://archive.ubuntu.com/ubuntu jammy-updates/multiverse amd64 Packages [50.4 kB]\n",
            "Get:14 http://archive.ubuntu.com/ubuntu jammy-updates/main amd64 Packages [1,605 kB]\n",
            "Get:15 http://archive.ubuntu.com/ubuntu jammy-updates/universe amd64 Packages [1,307 kB]\n",
            "Get:16 http://security.ubuntu.com/ubuntu jammy-security/main amd64 Packages [1,335 kB]\n",
            "Get:17 http://security.ubuntu.com/ubuntu jammy-security/multiverse amd64 Packages [44.6 kB]\n",
            "Get:18 http://security.ubuntu.com/ubuntu jammy-security/restricted amd64 Packages [1,586 kB]\n",
            "Fetched 8,823 kB in 2s (4,363 kB/s)\n",
            "Reading package lists... Done\n",
            "Reading package lists... Done\n",
            "Building dependency tree... Done\n",
            "Reading state information... Done\n",
            "The following additional packages will be installed:\n",
            "  fonts-droid-fallback fonts-noto-mono fonts-urw-base35 ghostscript gsfonts imagemagick-6-common\n",
            "  libdjvulibre-text libdjvulibre21 libfftw3-double3 libgs9 libgs9-common libidn12 libijs-0.35\n",
            "  libjbig2dec0 libjxr-tools libjxr0 liblqr-1-0 libmagickcore-6.q16-6 libmagickcore-6.q16-6-extra\n",
            "  libmagickwand-6.q16-6 libv4l-0 libv4lconvert0 libwmflite-0.2-7 poppler-data\n",
            "Suggested packages:\n",
            "  fonts-noto fonts-freefont-otf | fonts-freefont-ttf fonts-texgyre ghostscript-x libfftw3-bin\n",
            "  libfftw3-dev inkscape poppler-utils fonts-japanese-mincho | fonts-ipafont-mincho\n",
            "  fonts-japanese-gothic | fonts-ipafont-gothic fonts-arphic-ukai fonts-arphic-uming fonts-nanum\n",
            "The following NEW packages will be installed:\n",
            "  fonts-droid-fallback fonts-noto-mono fonts-urw-base35 ghostscript gsfonts imagemagick-6-common\n",
            "  libdjvulibre-text libdjvulibre21 libfftw3-double3 libgs9 libgs9-common libidn12 libijs-0.35\n",
            "  libjbig2dec0 libjxr-tools libjxr0 liblqr-1-0 libmagickcore-6.q16-6 libmagickcore-6.q16-6-extra\n",
            "  libmagickwand-6.q16-6 libv4l-0 libv4lconvert0 libwmflite-0.2-7 libzbar0 poppler-data\n",
            "0 upgraded, 25 newly installed, 0 to remove and 24 not upgraded.\n",
            "Need to get 24.1 MB of archives.\n",
            "After this operation, 82.6 MB of additional disk space will be used.\n",
            "Get:1 http://archive.ubuntu.com/ubuntu jammy/main amd64 fonts-droid-fallback all 1:6.0.1r16-1.1build1 [1,805 kB]\n",
            "Get:2 http://archive.ubuntu.com/ubuntu jammy/main amd64 libfftw3-double3 amd64 3.3.8-2ubuntu8 [770 kB]\n",
            "Get:3 http://archive.ubuntu.com/ubuntu jammy/universe amd64 liblqr-1-0 amd64 0.4.2-2.1 [27.7 kB]\n",
            "Get:4 http://archive.ubuntu.com/ubuntu jammy-updates/universe amd64 imagemagick-6-common all 8:6.9.11.60+dfsg-1.3ubuntu0.22.04.3 [63.6 kB]\n",
            "Get:5 http://archive.ubuntu.com/ubuntu jammy-updates/universe amd64 libmagickcore-6.q16-6 amd64 8:6.9.11.60+dfsg-1.3ubuntu0.22.04.3 [1,788 kB]\n",
            "Get:6 http://archive.ubuntu.com/ubuntu jammy-updates/universe amd64 libmagickwand-6.q16-6 amd64 8:6.9.11.60+dfsg-1.3ubuntu0.22.04.3 [328 kB]\n",
            "Get:7 http://archive.ubuntu.com/ubuntu jammy/main amd64 poppler-data all 0.4.11-1 [2,171 kB]\n",
            "Get:8 http://archive.ubuntu.com/ubuntu jammy/main amd64 fonts-noto-mono all 20201225-1build1 [397 kB]\n",
            "Get:9 http://archive.ubuntu.com/ubuntu jammy/main amd64 fonts-urw-base35 all 20200910-1 [6,367 kB]\n",
            "Get:10 http://archive.ubuntu.com/ubuntu jammy-updates/main amd64 libgs9-common all 9.55.0~dfsg1-0ubuntu5.6 [751 kB]\n",
            "Get:11 http://archive.ubuntu.com/ubuntu jammy-updates/main amd64 libidn12 amd64 1.38-4ubuntu1 [60.0 kB]\n",
            "Get:12 http://archive.ubuntu.com/ubuntu jammy/main amd64 libijs-0.35 amd64 0.35-15build2 [16.5 kB]\n",
            "Get:13 http://archive.ubuntu.com/ubuntu jammy/main amd64 libjbig2dec0 amd64 0.19-3build2 [64.7 kB]\n",
            "Get:14 http://archive.ubuntu.com/ubuntu jammy-updates/main amd64 libgs9 amd64 9.55.0~dfsg1-0ubuntu5.6 [5,031 kB]\n",
            "Get:15 http://archive.ubuntu.com/ubuntu jammy-updates/main amd64 ghostscript amd64 9.55.0~dfsg1-0ubuntu5.6 [49.4 kB]\n",
            "Get:16 http://archive.ubuntu.com/ubuntu jammy/universe amd64 gsfonts all 1:8.11+urwcyr1.0.7~pre44-4.5 [3,120 kB]\n",
            "Get:17 http://archive.ubuntu.com/ubuntu jammy/main amd64 libdjvulibre-text all 3.5.28-2build2 [50.9 kB]\n",
            "Get:18 http://archive.ubuntu.com/ubuntu jammy/main amd64 libdjvulibre21 amd64 3.5.28-2build2 [624 kB]\n",
            "Get:19 http://archive.ubuntu.com/ubuntu jammy/universe amd64 libjxr0 amd64 1.2~git20170615.f752187-5 [174 kB]\n",
            "Get:20 http://archive.ubuntu.com/ubuntu jammy/universe amd64 libjxr-tools amd64 1.2~git20170615.f752187-5 [16.0 kB]\n",
            "Get:21 http://archive.ubuntu.com/ubuntu jammy/main amd64 libwmflite-0.2-7 amd64 0.2.12-5ubuntu1 [68.9 kB]\n",
            "Get:22 http://archive.ubuntu.com/ubuntu jammy-updates/universe amd64 libmagickcore-6.q16-6-extra amd64 8:6.9.11.60+dfsg-1.3ubuntu0.22.04.3 [70.1 kB]\n",
            "Get:23 http://archive.ubuntu.com/ubuntu jammy/main amd64 libv4lconvert0 amd64 1.22.1-2build1 [82.4 kB]\n",
            "Get:24 http://archive.ubuntu.com/ubuntu jammy/main amd64 libv4l-0 amd64 1.22.1-2build1 [44.9 kB]\n",
            "Get:25 http://archive.ubuntu.com/ubuntu jammy/universe amd64 libzbar0 amd64 0.23.92-4build2 [121 kB]\n",
            "Fetched 24.1 MB in 1s (30.6 MB/s)\n",
            "Selecting previously unselected package fonts-droid-fallback.\n",
            "(Reading database ... 121654 files and directories currently installed.)\n",
            "Preparing to unpack .../00-fonts-droid-fallback_1%3a6.0.1r16-1.1build1_all.deb ...\n",
            "Unpacking fonts-droid-fallback (1:6.0.1r16-1.1build1) ...\n",
            "Selecting previously unselected package libfftw3-double3:amd64.\n",
            "Preparing to unpack .../01-libfftw3-double3_3.3.8-2ubuntu8_amd64.deb ...\n",
            "Unpacking libfftw3-double3:amd64 (3.3.8-2ubuntu8) ...\n",
            "Selecting previously unselected package liblqr-1-0:amd64.\n",
            "Preparing to unpack .../02-liblqr-1-0_0.4.2-2.1_amd64.deb ...\n",
            "Unpacking liblqr-1-0:amd64 (0.4.2-2.1) ...\n",
            "Selecting previously unselected package imagemagick-6-common.\n",
            "Preparing to unpack .../03-imagemagick-6-common_8%3a6.9.11.60+dfsg-1.3ubuntu0.22.04.3_all.deb ...\n",
            "Unpacking imagemagick-6-common (8:6.9.11.60+dfsg-1.3ubuntu0.22.04.3) ...\n",
            "Selecting previously unselected package libmagickcore-6.q16-6:amd64.\n",
            "Preparing to unpack .../04-libmagickcore-6.q16-6_8%3a6.9.11.60+dfsg-1.3ubuntu0.22.04.3_amd64.deb ...\n",
            "Unpacking libmagickcore-6.q16-6:amd64 (8:6.9.11.60+dfsg-1.3ubuntu0.22.04.3) ...\n",
            "Selecting previously unselected package libmagickwand-6.q16-6:amd64.\n",
            "Preparing to unpack .../05-libmagickwand-6.q16-6_8%3a6.9.11.60+dfsg-1.3ubuntu0.22.04.3_amd64.deb ...\n",
            "Unpacking libmagickwand-6.q16-6:amd64 (8:6.9.11.60+dfsg-1.3ubuntu0.22.04.3) ...\n",
            "Selecting previously unselected package poppler-data.\n",
            "Preparing to unpack .../06-poppler-data_0.4.11-1_all.deb ...\n",
            "Unpacking poppler-data (0.4.11-1) ...\n",
            "Selecting previously unselected package fonts-noto-mono.\n",
            "Preparing to unpack .../07-fonts-noto-mono_20201225-1build1_all.deb ...\n",
            "Unpacking fonts-noto-mono (20201225-1build1) ...\n",
            "Selecting previously unselected package fonts-urw-base35.\n",
            "Preparing to unpack .../08-fonts-urw-base35_20200910-1_all.deb ...\n",
            "Unpacking fonts-urw-base35 (20200910-1) ...\n",
            "Selecting previously unselected package libgs9-common.\n",
            "Preparing to unpack .../09-libgs9-common_9.55.0~dfsg1-0ubuntu5.6_all.deb ...\n",
            "Unpacking libgs9-common (9.55.0~dfsg1-0ubuntu5.6) ...\n",
            "Selecting previously unselected package libidn12:amd64.\n",
            "Preparing to unpack .../10-libidn12_1.38-4ubuntu1_amd64.deb ...\n",
            "Unpacking libidn12:amd64 (1.38-4ubuntu1) ...\n",
            "Selecting previously unselected package libijs-0.35:amd64.\n",
            "Preparing to unpack .../11-libijs-0.35_0.35-15build2_amd64.deb ...\n",
            "Unpacking libijs-0.35:amd64 (0.35-15build2) ...\n",
            "Selecting previously unselected package libjbig2dec0:amd64.\n",
            "Preparing to unpack .../12-libjbig2dec0_0.19-3build2_amd64.deb ...\n",
            "Unpacking libjbig2dec0:amd64 (0.19-3build2) ...\n",
            "Selecting previously unselected package libgs9:amd64.\n",
            "Preparing to unpack .../13-libgs9_9.55.0~dfsg1-0ubuntu5.6_amd64.deb ...\n",
            "Unpacking libgs9:amd64 (9.55.0~dfsg1-0ubuntu5.6) ...\n",
            "Selecting previously unselected package ghostscript.\n",
            "Preparing to unpack .../14-ghostscript_9.55.0~dfsg1-0ubuntu5.6_amd64.deb ...\n",
            "Unpacking ghostscript (9.55.0~dfsg1-0ubuntu5.6) ...\n",
            "Selecting previously unselected package gsfonts.\n",
            "Preparing to unpack .../15-gsfonts_1%3a8.11+urwcyr1.0.7~pre44-4.5_all.deb ...\n",
            "Unpacking gsfonts (1:8.11+urwcyr1.0.7~pre44-4.5) ...\n",
            "Selecting previously unselected package libdjvulibre-text.\n",
            "Preparing to unpack .../16-libdjvulibre-text_3.5.28-2build2_all.deb ...\n",
            "Unpacking libdjvulibre-text (3.5.28-2build2) ...\n",
            "Selecting previously unselected package libdjvulibre21:amd64.\n",
            "Preparing to unpack .../17-libdjvulibre21_3.5.28-2build2_amd64.deb ...\n",
            "Unpacking libdjvulibre21:amd64 (3.5.28-2build2) ...\n",
            "Selecting previously unselected package libjxr0:amd64.\n",
            "Preparing to unpack .../18-libjxr0_1.2~git20170615.f752187-5_amd64.deb ...\n",
            "Unpacking libjxr0:amd64 (1.2~git20170615.f752187-5) ...\n",
            "Selecting previously unselected package libjxr-tools.\n",
            "Preparing to unpack .../19-libjxr-tools_1.2~git20170615.f752187-5_amd64.deb ...\n",
            "Unpacking libjxr-tools (1.2~git20170615.f752187-5) ...\n",
            "Selecting previously unselected package libwmflite-0.2-7:amd64.\n",
            "Preparing to unpack .../20-libwmflite-0.2-7_0.2.12-5ubuntu1_amd64.deb ...\n",
            "Unpacking libwmflite-0.2-7:amd64 (0.2.12-5ubuntu1) ...\n",
            "Selecting previously unselected package libmagickcore-6.q16-6-extra:amd64.\n",
            "Preparing to unpack .../21-libmagickcore-6.q16-6-extra_8%3a6.9.11.60+dfsg-1.3ubuntu0.22.04.3_amd64.deb ...\n",
            "Unpacking libmagickcore-6.q16-6-extra:amd64 (8:6.9.11.60+dfsg-1.3ubuntu0.22.04.3) ...\n",
            "Selecting previously unselected package libv4lconvert0:amd64.\n",
            "Preparing to unpack .../22-libv4lconvert0_1.22.1-2build1_amd64.deb ...\n",
            "Unpacking libv4lconvert0:amd64 (1.22.1-2build1) ...\n",
            "Selecting previously unselected package libv4l-0:amd64.\n",
            "Preparing to unpack .../23-libv4l-0_1.22.1-2build1_amd64.deb ...\n",
            "Unpacking libv4l-0:amd64 (1.22.1-2build1) ...\n",
            "Selecting previously unselected package libzbar0:amd64.\n",
            "Preparing to unpack .../24-libzbar0_0.23.92-4build2_amd64.deb ...\n",
            "Unpacking libzbar0:amd64 (0.23.92-4build2) ...\n",
            "Setting up imagemagick-6-common (8:6.9.11.60+dfsg-1.3ubuntu0.22.04.3) ...\n",
            "Setting up fonts-noto-mono (20201225-1build1) ...\n",
            "Setting up libwmflite-0.2-7:amd64 (0.2.12-5ubuntu1) ...\n",
            "Setting up libijs-0.35:amd64 (0.35-15build2) ...\n",
            "Setting up libjxr0:amd64 (1.2~git20170615.f752187-5) ...\n",
            "Setting up fonts-urw-base35 (20200910-1) ...\n",
            "Setting up poppler-data (0.4.11-1) ...\n",
            "Setting up libjbig2dec0:amd64 (0.19-3build2) ...\n",
            "Setting up gsfonts (1:8.11+urwcyr1.0.7~pre44-4.5) ...\n",
            "Setting up libidn12:amd64 (1.38-4ubuntu1) ...\n",
            "Setting up libfftw3-double3:amd64 (3.3.8-2ubuntu8) ...\n",
            "Setting up liblqr-1-0:amd64 (0.4.2-2.1) ...\n",
            "Setting up libv4lconvert0:amd64 (1.22.1-2build1) ...\n",
            "Setting up fonts-droid-fallback (1:6.0.1r16-1.1build1) ...\n",
            "Setting up libdjvulibre-text (3.5.28-2build2) ...\n",
            "Setting up libgs9-common (9.55.0~dfsg1-0ubuntu5.6) ...\n",
            "Setting up libjxr-tools (1.2~git20170615.f752187-5) ...\n",
            "Setting up libgs9:amd64 (9.55.0~dfsg1-0ubuntu5.6) ...\n",
            "Setting up libdjvulibre21:amd64 (3.5.28-2build2) ...\n",
            "Setting up ghostscript (9.55.0~dfsg1-0ubuntu5.6) ...\n",
            "Setting up libv4l-0:amd64 (1.22.1-2build1) ...\n",
            "Setting up libmagickcore-6.q16-6:amd64 (8:6.9.11.60+dfsg-1.3ubuntu0.22.04.3) ...\n",
            "Setting up libmagickwand-6.q16-6:amd64 (8:6.9.11.60+dfsg-1.3ubuntu0.22.04.3) ...\n",
            "Setting up libmagickcore-6.q16-6-extra:amd64 (8:6.9.11.60+dfsg-1.3ubuntu0.22.04.3) ...\n",
            "Setting up libzbar0:amd64 (0.23.92-4build2) ...\n",
            "Processing triggers for man-db (2.10.2-1) ...\n",
            "Processing triggers for fontconfig (2.13.1-4.2ubuntu5) ...\n",
            "Processing triggers for libc-bin (2.35-0ubuntu3.4) ...\n",
            "/sbin/ldconfig.real: /usr/local/lib/libtbbmalloc_proxy.so.2 is not a symbolic link\n",
            "\n",
            "/sbin/ldconfig.real: /usr/local/lib/libtbbmalloc.so.2 is not a symbolic link\n",
            "\n",
            "/sbin/ldconfig.real: /usr/local/lib/libtbbbind_2_5.so.3 is not a symbolic link\n",
            "\n",
            "/sbin/ldconfig.real: /usr/local/lib/libtbb.so.12 is not a symbolic link\n",
            "\n",
            "/sbin/ldconfig.real: /usr/local/lib/libtbbbind_2_0.so.3 is not a symbolic link\n",
            "\n",
            "/sbin/ldconfig.real: /usr/local/lib/libtbbbind.so.3 is not a symbolic link\n",
            "\n",
            "Reading package lists... Done\n",
            "Building dependency tree... Done\n",
            "Reading state information... Done\n",
            "The following NEW packages will be installed:\n",
            "  poppler-utils\n",
            "0 upgraded, 1 newly installed, 0 to remove and 24 not upgraded.\n",
            "Need to get 186 kB of archives.\n",
            "After this operation, 696 kB of additional disk space will be used.\n",
            "Get:1 http://archive.ubuntu.com/ubuntu jammy-updates/main amd64 poppler-utils amd64 22.02.0-2ubuntu0.3 [186 kB]\n",
            "Fetched 186 kB in 0s (734 kB/s)\n",
            "Selecting previously unselected package poppler-utils.\n",
            "(Reading database ... 123281 files and directories currently installed.)\n",
            "Preparing to unpack .../poppler-utils_22.02.0-2ubuntu0.3_amd64.deb ...\n",
            "Unpacking poppler-utils (22.02.0-2ubuntu0.3) ...\n",
            "Setting up poppler-utils (22.02.0-2ubuntu0.3) ...\n",
            "Processing triggers for man-db (2.10.2-1) ...\n",
            "Collecting pymupdf\n",
            "  Downloading PyMuPDF-1.23.8-cp310-none-manylinux2014_x86_64.whl (4.4 MB)\n",
            "\u001b[2K     \u001b[90m━━━━━━━━━━━━━━━━━━━━━━━━━━━━━━━━━━━━━━━━\u001b[0m \u001b[32m4.4/4.4 MB\u001b[0m \u001b[31m17.3 MB/s\u001b[0m eta \u001b[36m0:00:00\u001b[0m\n",
            "\u001b[?25hCollecting reportlab\n",
            "  Downloading reportlab-4.0.8-py3-none-any.whl (1.9 MB)\n",
            "\u001b[2K     \u001b[90m━━━━━━━━━━━━━━━━━━━━━━━━━━━━━━━━━━━━━━━━\u001b[0m \u001b[32m1.9/1.9 MB\u001b[0m \u001b[31m70.1 MB/s\u001b[0m eta \u001b[36m0:00:00\u001b[0m\n",
            "\u001b[?25hCollecting pylabels\n",
            "  Downloading pylabels-1.2.1-py2.py3-none-any.whl (16 kB)\n",
            "Collecting qrcode\n",
            "  Downloading qrcode-7.4.2-py3-none-any.whl (46 kB)\n",
            "\u001b[2K     \u001b[90m━━━━━━━━━━━━━━━━━━━━━━━━━━━━━━━━━━━━━━━━\u001b[0m \u001b[32m46.2/46.2 kB\u001b[0m \u001b[31m3.7 MB/s\u001b[0m eta \u001b[36m0:00:00\u001b[0m\n",
            "\u001b[?25hCollecting pyzbar\n",
            "  Downloading pyzbar-0.1.9-py2.py3-none-any.whl (32 kB)\n",
            "Collecting pdf2image\n",
            "  Downloading pdf2image-1.17.0-py3-none-any.whl (11 kB)\n",
            "Collecting PyMuPDFb==1.23.7 (from pymupdf)\n",
            "  Downloading PyMuPDFb-1.23.7-py3-none-manylinux2014_x86_64.manylinux_2_17_x86_64.whl (30.6 MB)\n",
            "\u001b[2K     \u001b[90m━━━━━━━━━━━━━━━━━━━━━━━━━━━━━━━━━━━━━━━━\u001b[0m \u001b[32m30.6/30.6 MB\u001b[0m \u001b[31m18.0 MB/s\u001b[0m eta \u001b[36m0:00:00\u001b[0m\n",
            "\u001b[?25hRequirement already satisfied: pillow>=9.0.0 in /usr/local/lib/python3.10/dist-packages (from reportlab) (9.4.0)\n",
            "Requirement already satisfied: chardet in /usr/local/lib/python3.10/dist-packages (from reportlab) (5.2.0)\n",
            "Requirement already satisfied: typing-extensions in /usr/local/lib/python3.10/dist-packages (from qrcode) (4.5.0)\n",
            "Collecting pypng (from qrcode)\n",
            "  Downloading pypng-0.20220715.0-py3-none-any.whl (58 kB)\n",
            "\u001b[2K     \u001b[90m━━━━━━━━━━━━━━━━━━━━━━━━━━━━━━━━━━━━━━━━\u001b[0m \u001b[32m58.1/58.1 kB\u001b[0m \u001b[31m5.7 MB/s\u001b[0m eta \u001b[36m0:00:00\u001b[0m\n",
            "\u001b[?25hInstalling collected packages: pyzbar, pypng, pylabels, reportlab, qrcode, PyMuPDFb, pdf2image, pymupdf\n",
            "Successfully installed PyMuPDFb-1.23.7 pdf2image-1.17.0 pylabels-1.2.1 pymupdf-1.23.8 pypng-0.20220715.0 pyzbar-0.1.9 qrcode-7.4.2 reportlab-4.0.8\n",
            "CPU times: user 483 ms, sys: 52.4 ms, total: 535 ms\n",
            "Wall time: 42 s\n"
          ]
        }
      ]
    },
    {
      "cell_type": "code",
      "source": [
        "# test file, the real 'Dettaglio elenco studenti.xlsx' file should be uploaded using the Colab menu on the left\n",
        "# !wget --no-check-certificate 'https://docs.google.com/uc?export=download&id=1IWUhZHU9yxJa2TmhCoU2r2gaHKb1GzY3' -O 'Dettaglio elenco studenti.xlsx'"
      ],
      "metadata": {
        "id": "4t8oDFGvOe9X",
        "colab": {
          "base_uri": "https://localhost:8080/"
        },
        "outputId": "1e997746-f6e9-4357-aaa2-c4666c08813c"
      },
      "execution_count": null,
      "outputs": [
        {
          "output_type": "stream",
          "name": "stdout",
          "text": [
            "--2023-07-20 15:52:24--  https://docs.google.com/uc?export=download&id=1IWUhZHU9yxJa2TmhCoU2r2gaHKb1GzY3\n",
            "Resolving docs.google.com (docs.google.com)... 142.251.2.101, 142.251.2.102, 142.251.2.139, ...\n",
            "Connecting to docs.google.com (docs.google.com)|142.251.2.101|:443... connected.\n",
            "HTTP request sent, awaiting response... 303 See Other\n",
            "Location: https://doc-0k-68-docs.googleusercontent.com/docs/securesc/ha0ro937gcuc7l7deffksulhg5h7mbp1/t3ubb6simucj8n3qtruf7grarntdg7jq/1689868275000/00776265667024010084/*/1IWUhZHU9yxJa2TmhCoU2r2gaHKb1GzY3?e=download&uuid=43670bed-7c90-4683-a5fa-166caf3fd431 [following]\n",
            "Warning: wildcards not supported in HTTP.\n",
            "--2023-07-20 15:52:25--  https://doc-0k-68-docs.googleusercontent.com/docs/securesc/ha0ro937gcuc7l7deffksulhg5h7mbp1/t3ubb6simucj8n3qtruf7grarntdg7jq/1689868275000/00776265667024010084/*/1IWUhZHU9yxJa2TmhCoU2r2gaHKb1GzY3?e=download&uuid=43670bed-7c90-4683-a5fa-166caf3fd431\n",
            "Resolving doc-0k-68-docs.googleusercontent.com (doc-0k-68-docs.googleusercontent.com)... 142.250.141.132, 2607:f8b0:4023:c0b::84\n",
            "Connecting to doc-0k-68-docs.googleusercontent.com (doc-0k-68-docs.googleusercontent.com)|142.250.141.132|:443... connected.\n",
            "HTTP request sent, awaiting response... 200 OK\n",
            "Length: 72450 (71K) [application/vnd.openxmlformats-officedocument.spreadsheetml.sheet]\n",
            "Saving to: ‘Dettaglio elenco studenti.xlsx’\n",
            "\n",
            "Dettaglio elenco st 100%[===================>]  70.75K  --.-KB/s    in 0.03s   \n",
            "\n",
            "2023-07-20 15:52:25 (2.10 MB/s) - ‘Dettaglio elenco studenti.xlsx’ saved [72450/72450]\n",
            "\n"
          ]
        }
      ]
    },
    {
      "cell_type": "code",
      "source": [
        "#@title >>Fase 1: Genera PDF<< </br>Genera PDF stampabile con molteplici QR a partire da un anagrafica CSV (carica excel dal menu a sinistra) </br> NB: da stampare in scala 100% (non adattato alla pagina) { run: \"auto\" }\n",
        "input_excel = \"Dettaglio elenco studenti-20.xlsx\" #@param {type:\"string\"}\n",
        "output_pdf = \"etichette-gigi.pdf\" #@param {type:\"string\"}\n",
        "num_labels_per_id =  2#@param {type:\"integer\"}\n",
        "skip_first =  0#@param {type:\"integer\"}\n"
      ],
      "metadata": {
        "id": "xFewKe_P6EKn",
        "cellView": "form"
      },
      "execution_count": null,
      "outputs": []
    },
    {
      "cell_type": "code",
      "source": [
        "# Genera PDF stampabile con QR a partire da un anagrafica CSV\n",
        "# https://stackoverflow.com/questions/55791751/how-to-draw-images-on-labels\n",
        "\n",
        "import labels\n",
        "import qrcode\n",
        "import json\n",
        "import string\n",
        "from reportlab.graphics import shapes\n",
        "from random import randint, randrange, choice\n",
        "from reportlab.graphics.shapes import Image\n",
        "from reportlab.lib import colors\n",
        "import textwrap\n",
        "\n",
        "# Create an A4 portrait (210mm x 297mm) sheets with 3 columns and 8 rows\n",
        "# https://github.com/bcbnz/pylabels/blob/master/labels/specifications.py\n",
        "\n",
        "# Stampante Ed 21 3rd Floor uses this margins: top_margin=10, bottom_margin=15 (inner feed)\n",
        "# Format Avery 24x L4773\n",
        "#specs = labels.Specification(210, 297, 3, 8, 63, 34, corner_radius=2,\n",
        "#    left_padding=2, top_padding=2, bottom_padding=2, right_padding=2, padding_radius=0,\n",
        "#    left_margin=8, right_margin=7, top_margin=10, bottom_margin=15, row_gap=0, column_gap=3)\n",
        "\n",
        "# Stampante Ed 21 3rd Floor (multipurpose feed, horizontal/wide side input)\n",
        "# Format Avery 24x L7159\n",
        "specs = labels.Specification(210, 297, 3, 8, 63, 34, corner_radius=2,\n",
        "    left_padding=2, top_padding=2, bottom_padding=2, right_padding=2, padding_radius=0,\n",
        "    left_margin=8, right_margin=7, top_margin=8, bottom_margin=10, row_gap=1, column_gap=3)\n",
        "\n",
        "# Stampante Ed 20 1st Floor new hall uses this margins: top_margin=13, bottom_margin=12 (multipurpose feed)\n",
        "# Format Avery 24x L4773\n",
        "# specs = labels.Specification(210, 297, 3, 8, 63, 34, corner_radius=2,\n",
        "#     left_padding=2, top_padding=2, bottom_padding=2, right_padding=2, padding_radius=0,\n",
        "#     left_margin=8, right_margin=7, top_margin=13, bottom_margin=12, row_gap=0, column_gap=3)\n",
        "\n",
        "\n",
        "# Create a function to draw each label. This will be given the ReportLab drawing\n",
        "# object to draw on, the dimensions (NB. these will be in points, the unit\n",
        "# ReportLab uses) of the label, and the object to render.\n",
        "def draw_label(label, width, height, obj, fill=colors.black):\n",
        "    config = obj.get('config')\n",
        "\n",
        "    # selective colors\n",
        "    fill = colors.black\n",
        "    if 'fill' in config: fill = config['fill']\n",
        "\n",
        "    mylines = textwrap.wrap(config.get(\"n\"), 13) # wrap name\n",
        "\n",
        "    if len(mylines) >3: # 4 lines\n",
        "      # w, h from bottom right\n",
        "      label.add(shapes.String(80, 64, f'{config.get(\"c\")}', fontName=\"Helvetica\", fontSize=10, fillColor=fill))\n",
        "      label.add(shapes.String(80, 51, mylines[0], fontName=\"Helvetica\", fontSize=10, fillColor=fill))\n",
        "      label.add(shapes.String(80, 38, mylines[1], fontName=\"Helvetica\", fontSize=10, fillColor=fill))\n",
        "      label.add(shapes.String(80, 25, mylines[2], fontName=\"Helvetica\", fontSize=10, fillColor=fill))\n",
        "      label.add(shapes.String(80, 12, ' '.join(mylines[3:])[:14], fontName=\"Helvetica\", fontSize=10, fillColor=fill))\n",
        "    elif len(mylines) >2: # 3 lines\n",
        "      # w, h from bottom right\n",
        "      label.add(shapes.String(80, 51, f'{config.get(\"c\")}', fontName=\"Helvetica\", fontSize=10, fillColor=fill))\n",
        "      label.add(shapes.String(80, 38, mylines[0], fontName=\"Helvetica\", fontSize=10, fillColor=fill))\n",
        "      label.add(shapes.String(80, 25, mylines[1], fontName=\"Helvetica\", fontSize=10, fillColor=fill))\n",
        "      label.add(shapes.String(80, 12, ' '.join(mylines[2:])[:14], fontName=\"Helvetica\", fontSize=10, fillColor=fill))\n",
        "    elif len(mylines) >1: # 2 lines\n",
        "      label.add(shapes.String(80, 38, f'{config.get(\"c\")}', fontName=\"Helvetica\", fontSize=10, fillColor=fill))\n",
        "      label.add(shapes.String(80, 25, mylines[0], fontName=\"Helvetica\", fontSize=10, fillColor=fill))\n",
        "      label.add(shapes.String(80, 12, ' '.join(mylines[1:])[:14], fontName=\"Helvetica\", fontSize=10, fillColor=fill))\n",
        "    else: # 1 line\n",
        "      label.add(shapes.String(80, 25, f'{config.get(\"c\")}', fontName=\"Helvetica\", fontSize=10, fillColor=fill))\n",
        "      label.add(shapes.String(80, 12, mylines[0], fontName=\"Helvetica\", fontSize=10, fillColor=fill))\n",
        "\n",
        "    # label.add(shapes.Image(4, 12, 60, 60, obj.get('image')))\n",
        "    label.add(shapes.Image(0, 0, 80, 80, obj.get('image')))\n",
        "\n",
        "\n",
        "# Create the PDF sheet\n",
        "sheet = labels.Sheet(specs, draw_label, border=False)\n",
        "\n",
        "# Load the student file\n",
        "import pandas as pd\n",
        "df = pd.read_excel(input_excel)\n",
        "\n",
        "# Skip first N: add dummies (for paper recycling)\n",
        "for i in range(skip_first):\n",
        "  dummy_dict = {'c': 'a', 'n': 'a'}\n",
        "\n",
        "  qr = qrcode.QRCode(version=1, error_correction=qrcode.constants.ERROR_CORRECT_M,\n",
        "      box_size=32,border=4)\n",
        "  qr.add_data(json.dumps(dummy_dict))\n",
        "  qr.make(fit=True)\n",
        "  dummy_dict['fill'] = colors.white\n",
        "  qr_code = {'config': dummy_dict, 'image': qr.make_image(fill_color=\"white\", back_color=\"white\")}\n",
        "  sheet.add_label(qr_code)\n",
        "\n",
        "# For each student\n",
        "for i in df[['Codice persona', 'Cognome-Nome']].itertuples():\n",
        "\n",
        "        setup_dict = {\n",
        "            'c': i[1], # c stands for code\n",
        "            'n': i[2] # n stands for name\n",
        "        }\n",
        "\n",
        "        qr = qrcode.QRCode(\n",
        "            version=1,\n",
        "            error_correction=qrcode.constants.ERROR_CORRECT_M,\n",
        "            box_size=32,\n",
        "            border=4,\n",
        "        )\n",
        "\n",
        "        # Add JSON encoded data to qr code\n",
        "        qr.add_data(json.dumps(setup_dict))\n",
        "\n",
        "        qr.make(fit=True)\n",
        "\n",
        "        qr_code = {\n",
        "            'config': setup_dict,\n",
        "            'image': qr.make_image(fill_color=\"black\", back_color=\"white\"),\n",
        "        }\n",
        "\n",
        "        # When a single QR per studenti ipools not enough\n",
        "        for _ in range(num_labels_per_id):\n",
        "          sheet.add_label(qr_code)\n",
        "\n",
        "# Save the file and we are done.\n",
        "sheet.save(output_pdf)"
      ],
      "metadata": {
        "id": "8ulDQvkK2rkP"
      },
      "execution_count": null,
      "outputs": []
    },
    {
      "cell_type": "markdown",
      "source": [
        "### Download della pigrizia (si può scaricare il file PDF con i QR anche dal menu a sinistra)"
      ],
      "metadata": {
        "id": "1Pf1lf9tlABe"
      }
    },
    {
      "cell_type": "code",
      "source": [
        "from google.colab import files\n",
        "files.download(output_pdf)"
      ],
      "metadata": {
        "colab": {
          "base_uri": "https://localhost:8080/",
          "height": 17
        },
        "id": "ndxE_5JclFUX",
        "outputId": "4e4eab39-bef5-40d4-aa14-0e15b7b4ad9c"
      },
      "execution_count": null,
      "outputs": [
        {
          "output_type": "display_data",
          "data": {
            "text/plain": [
              "<IPython.core.display.Javascript object>"
            ],
            "application/javascript": [
              "\n",
              "    async function download(id, filename, size) {\n",
              "      if (!google.colab.kernel.accessAllowed) {\n",
              "        return;\n",
              "      }\n",
              "      const div = document.createElement('div');\n",
              "      const label = document.createElement('label');\n",
              "      label.textContent = `Downloading \"${filename}\": `;\n",
              "      div.appendChild(label);\n",
              "      const progress = document.createElement('progress');\n",
              "      progress.max = size;\n",
              "      div.appendChild(progress);\n",
              "      document.body.appendChild(div);\n",
              "\n",
              "      const buffers = [];\n",
              "      let downloaded = 0;\n",
              "\n",
              "      const channel = await google.colab.kernel.comms.open(id);\n",
              "      // Send a message to notify the kernel that we're ready.\n",
              "      channel.send({})\n",
              "\n",
              "      for await (const message of channel.messages) {\n",
              "        // Send a message to notify the kernel that we're ready.\n",
              "        channel.send({})\n",
              "        if (message.buffers) {\n",
              "          for (const buffer of message.buffers) {\n",
              "            buffers.push(buffer);\n",
              "            downloaded += buffer.byteLength;\n",
              "            progress.value = downloaded;\n",
              "          }\n",
              "        }\n",
              "      }\n",
              "      const blob = new Blob(buffers, {type: 'application/binary'});\n",
              "      const a = document.createElement('a');\n",
              "      a.href = window.URL.createObjectURL(blob);\n",
              "      a.download = filename;\n",
              "      div.appendChild(a);\n",
              "      a.click();\n",
              "      div.remove();\n",
              "    }\n",
              "  "
            ]
          },
          "metadata": {}
        },
        {
          "output_type": "display_data",
          "data": {
            "text/plain": [
              "<IPython.core.display.Javascript object>"
            ],
            "application/javascript": [
              "download(\"download_e4b083da-c598-4849-8b3d-0d410a2dd2ad\", \"etichette-mattia.pdf\", 28643)"
            ]
          },
          "metadata": {}
        }
      ]
    },
    {
      "cell_type": "code",
      "source": [
        "#@title >>Fase 2: Leggi QR<< </br> Leggi cartella di scansioni PDF e rinominali con il primo QR trovato in prima pagina (in una cartella separata) { run: \"auto\" }\n",
        "in_folder = \"input_Ese\" #@param {type:\"string\"}\n",
        "out_folder = \"output_Ese\" #@param {type:\"string\"}\n",
        "CYCLE_ALL_PAGES = False #@param {type:\"boolean\"}\n"
      ],
      "metadata": {
        "id": "kwLiWPik5E4h",
        "cellView": "form"
      },
      "execution_count": null,
      "outputs": []
    },
    {
      "cell_type": "markdown",
      "source": [
        "## 1. Leggi i QR dalla prima pagina dei PDF forniti\n",
        "Crea cartella dal menu a sinistra, e poi [...] sulla cartella per upload dei file.</br>\n",
        "Se il qr non viene trovato, il file viene copiato con il nome originale"
      ],
      "metadata": {
        "id": "suZuo3quhxSA"
      }
    },
    {
      "cell_type": "code",
      "source": [
        "%%time\n",
        "\n",
        "try:\n",
        "  in_folder\n",
        "except Exception as e:\n",
        "  print(\"(!) Esegui il blocco di configurazione delle cartelle!\")\n",
        "  raise\n",
        "\n",
        "!rm -r /content/$out_folder; mkdir /content/$out_folder\n",
        "\n",
        "import glob, os\n",
        "from pdf2image import convert_from_path\n",
        "from pyzbar.pyzbar import ZBarSymbol\n",
        "from pyzbar.pyzbar import decode\n",
        "import ast\n",
        "import shutil\n",
        "import glob\n",
        "\n",
        "\n",
        "def extractqr_(fname):\n",
        "  # https://pdf2image.readthedocs.io/en/latest/reference.html\n",
        "  iname = os.path.join('/content', in_folder, fname)\n",
        "\n",
        "  # Choose if to look for qr also on other pages (break wehn you find it)\n",
        "  if CYCLE_ALL_PAGES: imas = convert_from_path(iname, 100)\n",
        "  else: imas = convert_from_path(iname, 100, first_page=1,last_page=1)\n",
        "\n",
        "  oname = os.path.join('/content', out_folder, fname) # in case it fails\n",
        "\n",
        "  for n,ima in enumerate(imas):\n",
        "\n",
        "    dec = decode(ima, symbols=[ZBarSymbol.QRCODE])\n",
        "\n",
        "    if len(dec):\n",
        "      val = ast.literal_eval(dec[0].data.decode('utf-8'))\n",
        "      oname = os.path.join('/content', out_folder, str(val['c']) + \"_\" + str(val['n']) + \".pdf\")\n",
        "      break\n",
        "\n",
        "  # Copy the file, with or without renaming\n",
        "  shutil.copy(iname, oname)\n",
        "\n",
        "  return dec\n",
        "\n",
        "from multiprocessing import Pool\n",
        "import tqdm\n",
        "pool = Pool(processes=4)\n",
        "\n",
        "found = 0\n",
        "os.chdir('/content/'+in_folder)\n",
        "tasks = glob.glob(\"*.pdf\")\n",
        "\n",
        "for _ in tqdm.tqdm(pool.imap_unordered(extractqr_, tasks), total=len(tasks), position=0, leave=True):\n",
        "    if len(_): found += 1\n",
        "\n",
        "print('\\n', found, '/', len(tasks))"
      ],
      "metadata": {
        "colab": {
          "base_uri": "https://localhost:8080/"
        },
        "id": "qyCproNfbIS6",
        "outputId": "5fa8bb72-41c7-4416-ad68-196d98f7f423"
      },
      "execution_count": null,
      "outputs": [
        {
          "output_type": "stream",
          "name": "stdout",
          "text": [
            "rm: cannot remove '/content/output_Ese': No such file or directory\n"
          ]
        },
        {
          "output_type": "stream",
          "name": "stderr",
          "text": [
            "100%|██████████| 15/15 [00:02<00:00,  6.61it/s]"
          ]
        },
        {
          "output_type": "stream",
          "name": "stdout",
          "text": [
            "\n",
            " 8 / 15\n",
            "CPU times: user 88.6 ms, sys: 43.8 ms, total: 132 ms\n",
            "Wall time: 2.33 s\n"
          ]
        },
        {
          "output_type": "stream",
          "name": "stderr",
          "text": [
            "\n"
          ]
        }
      ]
    },
    {
      "cell_type": "markdown",
      "source": [
        "## 2. Scarica i PDF rinominati\n",
        "(lento! l'integrazione con google drive, sia per input che per output, è più comoda... vedi il primo blocco sotto \"Fine!\")"
      ],
      "metadata": {
        "id": "mh5Bb2lMpOun"
      }
    },
    {
      "cell_type": "code",
      "source": [
        "!zip -r /content/file.zip /content/$out_folder\n",
        "from google.colab import files\n",
        "files.download(\"/content/file.zip\")"
      ],
      "metadata": {
        "id": "O7R5Qivzy8dJ",
        "colab": {
          "base_uri": "https://localhost:8080/",
          "height": 306
        },
        "outputId": "a1f69b95-aab6-43d2-cb9b-150bc0b797a8"
      },
      "execution_count": null,
      "outputs": [
        {
          "output_type": "stream",
          "name": "stdout",
          "text": [
            "  adding: content/output_Ese/ (stored 0%)\n",
            "  adding: content/output_Ese/10782878_PENNISI TECLA.pdf (deflated 55%)\n",
            "  adding: content/output_Ese/doc01322420240109162029_007.pdf (deflated 49%)\n",
            "  adding: content/output_Ese/10833748_MENON ANDREA.pdf (deflated 48%)\n",
            "  adding: content/output_Ese/10682857_PALESTRA LEONARDO.pdf (deflated 50%)\n",
            "  adding: content/output_Ese/10744458_NICOLOSI DARIO.pdf (deflated 55%)\n",
            "  adding: content/output_Ese/10764144_NEGRI NICCOLÒ.pdf (deflated 52%)\n",
            "  adding: content/output_Ese/doc01322420240109162029_013.pdf (deflated 53%)\n",
            "  adding: content/output_Ese/doc01322420240109162029_008.pdf (deflated 46%)\n",
            "  adding: content/output_Ese/10810559_MORO GIACOMO OTTORINO.pdf (deflated 52%)\n",
            "  adding: content/output_Ese/doc01322420240109162029_006.pdf (deflated 49%)\n",
            "  adding: content/output_Ese/10676357_NADALIN BEATRICE TERESA.pdf (deflated 55%)\n",
            "  adding: content/output_Ese/doc01322420240109162029_005.pdf (deflated 50%)\n",
            "  adding: content/output_Ese/doc01322420240109162029_009.pdf (deflated 45%)\n",
            "  adding: content/output_Ese/doc01322420240109162029_004.pdf (deflated 54%)\n",
            "  adding: content/output_Ese/10710652_PELLICO ANDREA.pdf (deflated 47%)\n"
          ]
        },
        {
          "output_type": "display_data",
          "data": {
            "text/plain": [
              "<IPython.core.display.Javascript object>"
            ],
            "application/javascript": [
              "\n",
              "    async function download(id, filename, size) {\n",
              "      if (!google.colab.kernel.accessAllowed) {\n",
              "        return;\n",
              "      }\n",
              "      const div = document.createElement('div');\n",
              "      const label = document.createElement('label');\n",
              "      label.textContent = `Downloading \"${filename}\": `;\n",
              "      div.appendChild(label);\n",
              "      const progress = document.createElement('progress');\n",
              "      progress.max = size;\n",
              "      div.appendChild(progress);\n",
              "      document.body.appendChild(div);\n",
              "\n",
              "      const buffers = [];\n",
              "      let downloaded = 0;\n",
              "\n",
              "      const channel = await google.colab.kernel.comms.open(id);\n",
              "      // Send a message to notify the kernel that we're ready.\n",
              "      channel.send({})\n",
              "\n",
              "      for await (const message of channel.messages) {\n",
              "        // Send a message to notify the kernel that we're ready.\n",
              "        channel.send({})\n",
              "        if (message.buffers) {\n",
              "          for (const buffer of message.buffers) {\n",
              "            buffers.push(buffer);\n",
              "            downloaded += buffer.byteLength;\n",
              "            progress.value = downloaded;\n",
              "          }\n",
              "        }\n",
              "      }\n",
              "      const blob = new Blob(buffers, {type: 'application/binary'});\n",
              "      const a = document.createElement('a');\n",
              "      a.href = window.URL.createObjectURL(blob);\n",
              "      a.download = filename;\n",
              "      div.appendChild(a);\n",
              "      a.click();\n",
              "      div.remove();\n",
              "    }\n",
              "  "
            ]
          },
          "metadata": {}
        },
        {
          "output_type": "display_data",
          "data": {
            "text/plain": [
              "<IPython.core.display.Javascript object>"
            ],
            "application/javascript": [
              "download(\"download_ad203526-0d9f-49a4-aaa4-9fe794920bf0\", \"file.zip\", 9825251)"
            ]
          },
          "metadata": {}
        }
      ]
    },
    {
      "cell_type": "markdown",
      "source": [
        "## Fine!\n",
        "sotto ci sono solo prove e perdizione"
      ],
      "metadata": {
        "id": "HLWCfpS4qlmw"
      }
    },
    {
      "cell_type": "code",
      "source": [
        "# Mount colab and choose input folder\n",
        "\n",
        "# %%capture\n",
        "\n",
        "if False:\n",
        "\n",
        "  # Scegli un file (MyDrive diventa un path qualunque su colab)\n",
        "  !pip install ipyfilechooser\n",
        "\n",
        "  from google.colab import drive\n",
        "  drive.mount('/content/drive')\n",
        "\n",
        "  from ipyfilechooser import FileChooser\n",
        "\n",
        "  # Create and display a FileChooser widget\n",
        "  fc = FileChooser('/content/drive/MyDrive')\n",
        "  display(fc)\n",
        "\n",
        "  # Set infolder\n",
        "  fc.selected_path.replace('/content/', '')\n",
        "\n",
        "  # Set outfolder\n",
        "  # ...\n",
        "\n",
        "  CYCLE_ALL_PAGES = False\n",
        "\n",
        "  # Settando infolder e outfolder si scrivono i file direttamente su google drive...\n",
        "  # quindi anche il passaggio di zippare e scaricare diventa pleonastico\n"
      ],
      "metadata": {
        "id": "rUvm69pcnbwd"
      },
      "execution_count": null,
      "outputs": []
    },
    {
      "cell_type": "code",
      "source": [
        "# Not very usable since it uploads one file at time...\n",
        "#from google.colab import files\n",
        "#uploaded = files.upload()\n",
        "\n",
        "#for fn in uploaded.keys():\n",
        "#  print('User uploaded file \"Uploading_Data_Colab_1.xlsx\" with length 9000 bytes'.format(\n",
        "#      name=fn, length=len(uploaded[fn])))"
      ],
      "metadata": {
        "id": "SPlGpEF8nR5N"
      },
      "execution_count": null,
      "outputs": []
    },
    {
      "cell_type": "markdown",
      "source": [
        "Nothing to see here, just the original (slower) prototype for decoding..."
      ],
      "metadata": {
        "id": "HCk9jBuwbE2C"
      }
    },
    {
      "cell_type": "code",
      "source": [
        "%%time\n",
        "\n",
        "\n",
        "# FIRST VERSION\n",
        "\n",
        "from PIL import Image\n",
        "from kraken import binarization\n",
        "from pyzbar.pyzbar import ZBarSymbol\n",
        "from pyzbar.pyzbar import decode\n",
        "import fitz\n",
        "import ast\n",
        "import shutil\n",
        "import glob\n",
        "import os\n",
        "import io\n",
        "import cv2\n",
        "import numpy as np\n",
        "\n",
        "os.chdir('/content/')\n",
        "\n",
        "# extract qr data from first page of a raster pdf\n",
        "def extractqr(fname):\n",
        "  doc = fitz.Document(fname)\n",
        "  page0 = doc.get_page_images(0)\n",
        "  xref = page0[0]\n",
        "  image = doc.extract_image(xref[0])\n",
        "  pix = fitz.Pixmap(doc, xref[0])\n",
        "  ima = Image.open(io.BytesIO(pix.tobytes()))\n",
        "\n",
        "  # Antialiasing is beneficial...\n",
        "  w, h = ima.size\n",
        "  targeth = 1024\n",
        "  ratio = targeth/h\n",
        "  neww = int(ratio*w)\n",
        "  ima.thumbnail((neww, targeth), Image.Resampling.LANCZOS)\n",
        "  # ima.thumbnail((int(w/4), int(h/4)), Image.Resampling.LANCZOS) # works smoothly at 1753 x 1240 (1/4 wrt 600dpi)\n",
        "\n",
        "  # check CV2 detection (not perfect...)\n",
        "  #import numpy as np\n",
        "  #open_cv_image = np.array(ima)\n",
        "  #qrCodeDetector = cv2.QRCodeDetector()\n",
        "  #doable, points = qrCodeDetector.detect(open_cv_image)\n",
        "\n",
        "  # Try raw decode\n",
        "  dec = decode(ima, symbols=[ZBarSymbol.QRCODE])\n",
        "\n",
        "  if len(dec) == 0:\n",
        "    print(\"Could not decode a QR, try with OpenCV thresholding...\")\n",
        "    # to cv2\n",
        "    open_cv_image = np.array(ima)\n",
        "\n",
        "    blur = cv2.GaussianBlur(open_cv_image, (5, 5), 0)\n",
        "    ret, bw_im1 = cv2.threshold(blur, 200, 255, cv2.THRESH_BINARY)\n",
        "    dec = decode(bw_im1, symbols=[ZBarSymbol.QRCODE])\n",
        "\n",
        "  if len(dec) == 0:\n",
        "    print(\"Could not decode a QR, try with nlbin...\")\n",
        "    bw_im = binarization.nlbin(ima)\n",
        "    dec = decode(bw_im, symbols=[ZBarSymbol.QRCODE])\n",
        "\n",
        "  return dec\n",
        "\n",
        "# remove and recreate output directory\n",
        "!rm -r $out_folder; mkdir $out_folder\n",
        "# nessuna gestione delle eccezioni: se qualcosa non funziona si rompe tutto\n",
        "\n",
        "os.chdir('/content/'+in_folder)\n",
        "for fname in glob.glob(\"*.pdf\"):\n",
        "  print(\"###\", fname)\n",
        "  o = extractqr(fname)\n",
        "  print(\"Extracting first code among \" + str(len(o)) + \" found.\")\n",
        "\n",
        "  if len(o) < 1:\n",
        "    print(\"(!!!) COULD NOT DECODE \" + fname + \", copying with the original name\")\n",
        "    shutil.copy(fname, os.path.join('/content', out_folder, fname))\n",
        "    continue\n",
        "\n",
        "  val = o[0].data\n",
        "  val = ast.literal_eval(val.decode('utf-8')) # binary to dict\n",
        "  code = str(val['c']) # code\n",
        "  name = str(val['n']) # name\n",
        "  print(code, name)\n",
        "\n",
        "  shutil.copy(fname, os.path.join('/content', out_folder, code + \"_\" + name + \".pdf\"))"
      ],
      "metadata": {
        "id": "8uW2dQLN20NI"
      },
      "execution_count": null,
      "outputs": []
    },
    {
      "cell_type": "markdown",
      "source": [
        "Random tests with Data Matrix follow..."
      ],
      "metadata": {
        "id": "eiUvyWsNe5Tr"
      }
    },
    {
      "cell_type": "code",
      "source": [
        "!apt install libdmtx0a\n",
        "!pip install pylibdmtx"
      ],
      "metadata": {
        "colab": {
          "base_uri": "https://localhost:8080/"
        },
        "id": "6fybrtKAeBuY",
        "outputId": "5701088a-0778-4469-83d1-e0c7200464b0"
      },
      "execution_count": null,
      "outputs": [
        {
          "output_type": "stream",
          "name": "stdout",
          "text": [
            "Looking in indexes: https://pypi.org/simple, https://us-python.pkg.dev/colab-wheels/public/simple/\n",
            "Collecting pylibdmtx\n",
            "  Downloading pylibdmtx-0.1.10-py2.py3-none-any.whl (23 kB)\n",
            "Installing collected packages: pylibdmtx\n",
            "Successfully installed pylibdmtx-0.1.10\n"
          ]
        }
      ]
    },
    {
      "cell_type": "code",
      "source": [
        "from pylibdmtx.pylibdmtx import encode\n",
        "from PIL import Image\n",
        "encoded = encode('10021100'.encode('utf8'))\n",
        "img.save('test.jpg')\n",
        "img = Image.frombytes('RGB', (encoded.width, encoded.height), encoded.pixels)\n",
        "img"
      ],
      "metadata": {
        "colab": {
          "base_uri": "https://localhost:8080/",
          "height": 97
        },
        "id": "FdrDiQqQeQCX",
        "outputId": "b036905a-9baf-46eb-fac7-141cf464002d"
      },
      "execution_count": null,
      "outputs": [
        {
          "output_type": "execute_result",
          "data": {
            "text/plain": [
              "<PIL.Image.Image image mode=RGB size=80x80>"
            ],
            "image/png": "[encoded data removed]"
          },
          "metadata": {},
          "execution_count": 39
        }
      ]
    },
    {
      "cell_type": "code",
      "source": [
        "from pylibdmtx.pylibdmtx import decode\n",
        "from PIL import Image\n",
        "decode(Image.open('test.jpg'))"
      ],
      "metadata": {
        "colab": {
          "base_uri": "https://localhost:8080/"
        },
        "id": "8ERU4C9igpL6",
        "outputId": "6ac39513-d808-4899-bacb-6ff31231c8b2"
      },
      "execution_count": null,
      "outputs": [
        {
          "output_type": "execute_result",
          "data": {
            "text/plain": [
              "[Decoded(data=b'10021100', rect=Rect(left=8, top=9, width=63, height=59))]"
            ]
          },
          "metadata": {},
          "execution_count": 40
        }
      ]
    },
    {
      "cell_type": "code",
      "source": [
        "%%timeit\n",
        "\n",
        "image = cv2.imread('test.jpg')\n",
        "height, width = image.shape[:2]\n",
        "decode((image.tobytes(), width, height), max_count=1) # threshold=50, min_edge=20, max_edge=60"
      ],
      "metadata": {
        "colab": {
          "base_uri": "https://localhost:8080/"
        },
        "id": "I-d0SnwPiffl",
        "outputId": "b0d42c99-bd1a-4704-9a9e-8eaf7bc5d416"
      },
      "execution_count": null,
      "outputs": [
        {
          "output_type": "stream",
          "name": "stdout",
          "text": [
            "1000 loops, best of 5: 1.32 ms per loop\n"
          ]
        }
      ]
    }
  ]
}